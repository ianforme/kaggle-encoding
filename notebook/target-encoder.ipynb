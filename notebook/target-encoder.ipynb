{
 "cells": [
  {
   "cell_type": "code",
   "execution_count": 1,
   "metadata": {
    "collapsed": true
   },
   "outputs": [],
   "source": [
    "import pandas as pd\n",
    "import numpy as np\n",
    "\n",
    "import matplotlib.pyplot as plt\n",
    "\n",
    "from sklearn.preprocessing import LabelEncoder, MinMaxScaler\n",
    "from category_encoders.target_encoder import TargetEncoder\n",
    "\n",
    "from sklearn.model_selection import train_test_split, KFold\n",
    "from sklearn.linear_model import LogisticRegression\n",
    "from sklearn.ensemble import RandomForestClassifier\n",
    "from xgboost import XGBClassifier\n",
    "\n",
    "from sklearn.metrics import roc_auc_score\n",
    "from yellowbrick.classifier import ROCAUC\n",
    "\n",
    "%matplotlib inline\n",
    "pd.options.display.max_columns = 400"
   ]
  },
  {
   "cell_type": "code",
   "execution_count": 2,
   "metadata": {
    "collapsed": true
   },
   "outputs": [],
   "source": [
    "train = pd.read_csv(\"../data/train.csv\")\n",
    "test = pd.read_csv(\"../data/test.csv\")"
   ]
  },
  {
   "cell_type": "code",
   "execution_count": 3,
   "metadata": {},
   "outputs": [
    {
     "data": {
      "text/html": [
       "<div>\n",
       "<style scoped>\n",
       "    .dataframe tbody tr th:only-of-type {\n",
       "        vertical-align: middle;\n",
       "    }\n",
       "\n",
       "    .dataframe tbody tr th {\n",
       "        vertical-align: top;\n",
       "    }\n",
       "\n",
       "    .dataframe thead th {\n",
       "        text-align: right;\n",
       "    }\n",
       "</style>\n",
       "<table border=\"1\" class=\"dataframe\">\n",
       "  <thead>\n",
       "    <tr style=\"text-align: right;\">\n",
       "      <th></th>\n",
       "      <th>id</th>\n",
       "      <th>bin_0</th>\n",
       "      <th>bin_1</th>\n",
       "      <th>bin_2</th>\n",
       "      <th>bin_3</th>\n",
       "      <th>bin_4</th>\n",
       "      <th>nom_0</th>\n",
       "      <th>nom_1</th>\n",
       "      <th>nom_2</th>\n",
       "      <th>nom_3</th>\n",
       "      <th>nom_4</th>\n",
       "      <th>nom_5</th>\n",
       "      <th>nom_6</th>\n",
       "      <th>nom_7</th>\n",
       "      <th>nom_8</th>\n",
       "      <th>nom_9</th>\n",
       "      <th>ord_0</th>\n",
       "      <th>ord_1</th>\n",
       "      <th>ord_2</th>\n",
       "      <th>ord_3</th>\n",
       "      <th>ord_4</th>\n",
       "      <th>ord_5</th>\n",
       "      <th>day</th>\n",
       "      <th>month</th>\n",
       "      <th>target</th>\n",
       "    </tr>\n",
       "  </thead>\n",
       "  <tbody>\n",
       "    <tr>\n",
       "      <td>0</td>\n",
       "      <td>0</td>\n",
       "      <td>0</td>\n",
       "      <td>0</td>\n",
       "      <td>0</td>\n",
       "      <td>T</td>\n",
       "      <td>Y</td>\n",
       "      <td>Green</td>\n",
       "      <td>Triangle</td>\n",
       "      <td>Snake</td>\n",
       "      <td>Finland</td>\n",
       "      <td>Bassoon</td>\n",
       "      <td>50f116bcf</td>\n",
       "      <td>3ac1b8814</td>\n",
       "      <td>68f6ad3e9</td>\n",
       "      <td>c389000ab</td>\n",
       "      <td>2f4cb3d51</td>\n",
       "      <td>2</td>\n",
       "      <td>Grandmaster</td>\n",
       "      <td>Cold</td>\n",
       "      <td>h</td>\n",
       "      <td>D</td>\n",
       "      <td>kr</td>\n",
       "      <td>2</td>\n",
       "      <td>2</td>\n",
       "      <td>0</td>\n",
       "    </tr>\n",
       "    <tr>\n",
       "      <td>1</td>\n",
       "      <td>1</td>\n",
       "      <td>0</td>\n",
       "      <td>1</td>\n",
       "      <td>0</td>\n",
       "      <td>T</td>\n",
       "      <td>Y</td>\n",
       "      <td>Green</td>\n",
       "      <td>Trapezoid</td>\n",
       "      <td>Hamster</td>\n",
       "      <td>Russia</td>\n",
       "      <td>Piano</td>\n",
       "      <td>b3b4d25d0</td>\n",
       "      <td>fbcb50fc1</td>\n",
       "      <td>3b6dd5612</td>\n",
       "      <td>4cd920251</td>\n",
       "      <td>f83c56c21</td>\n",
       "      <td>1</td>\n",
       "      <td>Grandmaster</td>\n",
       "      <td>Hot</td>\n",
       "      <td>a</td>\n",
       "      <td>A</td>\n",
       "      <td>bF</td>\n",
       "      <td>7</td>\n",
       "      <td>8</td>\n",
       "      <td>0</td>\n",
       "    </tr>\n",
       "    <tr>\n",
       "      <td>2</td>\n",
       "      <td>2</td>\n",
       "      <td>0</td>\n",
       "      <td>0</td>\n",
       "      <td>0</td>\n",
       "      <td>F</td>\n",
       "      <td>Y</td>\n",
       "      <td>Blue</td>\n",
       "      <td>Trapezoid</td>\n",
       "      <td>Lion</td>\n",
       "      <td>Russia</td>\n",
       "      <td>Theremin</td>\n",
       "      <td>3263bdce5</td>\n",
       "      <td>0922e3cb8</td>\n",
       "      <td>a6a36f527</td>\n",
       "      <td>de9c9f684</td>\n",
       "      <td>ae6800dd0</td>\n",
       "      <td>1</td>\n",
       "      <td>Expert</td>\n",
       "      <td>Lava Hot</td>\n",
       "      <td>h</td>\n",
       "      <td>R</td>\n",
       "      <td>Jc</td>\n",
       "      <td>7</td>\n",
       "      <td>2</td>\n",
       "      <td>0</td>\n",
       "    </tr>\n",
       "    <tr>\n",
       "      <td>3</td>\n",
       "      <td>3</td>\n",
       "      <td>0</td>\n",
       "      <td>1</td>\n",
       "      <td>0</td>\n",
       "      <td>F</td>\n",
       "      <td>Y</td>\n",
       "      <td>Red</td>\n",
       "      <td>Trapezoid</td>\n",
       "      <td>Snake</td>\n",
       "      <td>Canada</td>\n",
       "      <td>Oboe</td>\n",
       "      <td>f12246592</td>\n",
       "      <td>50d7ad46a</td>\n",
       "      <td>ec69236eb</td>\n",
       "      <td>4ade6ab69</td>\n",
       "      <td>8270f0d71</td>\n",
       "      <td>1</td>\n",
       "      <td>Grandmaster</td>\n",
       "      <td>Boiling Hot</td>\n",
       "      <td>i</td>\n",
       "      <td>D</td>\n",
       "      <td>kW</td>\n",
       "      <td>2</td>\n",
       "      <td>1</td>\n",
       "      <td>1</td>\n",
       "    </tr>\n",
       "    <tr>\n",
       "      <td>4</td>\n",
       "      <td>4</td>\n",
       "      <td>0</td>\n",
       "      <td>0</td>\n",
       "      <td>0</td>\n",
       "      <td>F</td>\n",
       "      <td>N</td>\n",
       "      <td>Red</td>\n",
       "      <td>Trapezoid</td>\n",
       "      <td>Lion</td>\n",
       "      <td>Canada</td>\n",
       "      <td>Oboe</td>\n",
       "      <td>5b0f5acd5</td>\n",
       "      <td>1fe17a1fd</td>\n",
       "      <td>04ddac2be</td>\n",
       "      <td>cb43ab175</td>\n",
       "      <td>b164b72a7</td>\n",
       "      <td>1</td>\n",
       "      <td>Grandmaster</td>\n",
       "      <td>Freezing</td>\n",
       "      <td>a</td>\n",
       "      <td>R</td>\n",
       "      <td>qP</td>\n",
       "      <td>7</td>\n",
       "      <td>8</td>\n",
       "      <td>0</td>\n",
       "    </tr>\n",
       "  </tbody>\n",
       "</table>\n",
       "</div>"
      ],
      "text/plain": [
       "   id  bin_0  bin_1  bin_2 bin_3 bin_4  nom_0      nom_1    nom_2    nom_3  \\\n",
       "0   0      0      0      0     T     Y  Green   Triangle    Snake  Finland   \n",
       "1   1      0      1      0     T     Y  Green  Trapezoid  Hamster   Russia   \n",
       "2   2      0      0      0     F     Y   Blue  Trapezoid     Lion   Russia   \n",
       "3   3      0      1      0     F     Y    Red  Trapezoid    Snake   Canada   \n",
       "4   4      0      0      0     F     N    Red  Trapezoid     Lion   Canada   \n",
       "\n",
       "      nom_4      nom_5      nom_6      nom_7      nom_8      nom_9  ord_0  \\\n",
       "0   Bassoon  50f116bcf  3ac1b8814  68f6ad3e9  c389000ab  2f4cb3d51      2   \n",
       "1     Piano  b3b4d25d0  fbcb50fc1  3b6dd5612  4cd920251  f83c56c21      1   \n",
       "2  Theremin  3263bdce5  0922e3cb8  a6a36f527  de9c9f684  ae6800dd0      1   \n",
       "3      Oboe  f12246592  50d7ad46a  ec69236eb  4ade6ab69  8270f0d71      1   \n",
       "4      Oboe  5b0f5acd5  1fe17a1fd  04ddac2be  cb43ab175  b164b72a7      1   \n",
       "\n",
       "         ord_1        ord_2 ord_3 ord_4 ord_5  day  month  target  \n",
       "0  Grandmaster         Cold     h     D    kr    2      2       0  \n",
       "1  Grandmaster          Hot     a     A    bF    7      8       0  \n",
       "2       Expert     Lava Hot     h     R    Jc    7      2       0  \n",
       "3  Grandmaster  Boiling Hot     i     D    kW    2      1       1  \n",
       "4  Grandmaster     Freezing     a     R    qP    7      8       0  "
      ]
     },
     "execution_count": 3,
     "metadata": {},
     "output_type": "execute_result"
    }
   ],
   "source": [
    "train.head()"
   ]
  },
  {
   "cell_type": "code",
   "execution_count": 4,
   "metadata": {},
   "outputs": [],
   "source": [
    "# create encoders for binary and ordinal features\n",
    "bin_3_encoder = LabelEncoder().fit(['F', 'T'])\n",
    "bin_4_encoder = LabelEncoder().fit(['N', 'Y'])\n",
    "ord_1_encoder = LabelEncoder().fit([\"Novice\", \"Contributor\", \"Expert\", \"Master\", \"Grandmaster\"])\n",
    "ord_2_encoder = LabelEncoder().fit([\"Freezing\", \"Cold\", \"Warm\", \"Hot\", \"Boiling Hot\", \"Lava Hot\"])\n",
    "ord_3_encoder = LabelEncoder().fit(sorted(train['ord_3'].unique().tolist()))\n",
    "ord_4_encoder = LabelEncoder().fit(sorted(train['ord_4'].unique().tolist()))\n",
    "ord_5_encoder = LabelEncoder().fit(sorted(train['ord_5'].unique().tolist()))\n",
    "\n",
    "# try target encoder for nominal features\n",
    "nominal_encoder = TargetEncoder().fit(train[['nom_0', 'nom_1','nom_2', 'nom_3', 'nom_4', \n",
    "                                             'nom_5','nom_6', 'nom_7','nom_8', 'nom_9']], train['target'])"
   ]
  },
  {
   "cell_type": "code",
   "execution_count": 5,
   "metadata": {},
   "outputs": [],
   "source": [
    "# create pipeline\n",
    "def processing_pipeline(input_df):\n",
    "    df = input_df.copy()\n",
    "    \n",
    "    df['bin_3'] = bin_3_encoder.transform(df['bin_3'])\n",
    "    df['bin_4'] = bin_4_encoder.transform(df['bin_4'])\n",
    "    df['ord_1'] = ord_1_encoder.transform(df['ord_1'])\n",
    "    df['ord_2'] = ord_2_encoder.transform(df['ord_2'])\n",
    "    df['ord_3'] = ord_3_encoder.transform(df['ord_3'])\n",
    "    df['ord_4'] = ord_4_encoder.transform(df['ord_4'])\n",
    "    df['ord_5'] = ord_5_encoder.transform(df['ord_5'])\n",
    "    \n",
    "    # create cyclic encoding for time features\n",
    "    df['day_sin'] = np.sin(2*np.pi*(df['day'] / 7))\n",
    "    df['day_cos'] = np.cos(2*np.pi*(df['day'] / 7))\n",
    "    df['month_sin'] = np.sin(2*np.pi*(df['month'] / 12))\n",
    "    df['month_cos'] = np.cos(2*np.pi*(df['month'] / 12))\n",
    "    df = df.drop(['day', 'month'], axis=1)\n",
    "    \n",
    "    nominals = ['nom_0', 'nom_1','nom_2', 'nom_3', 'nom_4', 'nom_5','nom_6', 'nom_7','nom_8', 'nom_9']\n",
    "    df[nominals] = nominal_encoder.transform(df[nominals])\n",
    "    df = df.drop('id', axis=1)\n",
    "    \n",
    "    return df"
   ]
  },
  {
   "cell_type": "code",
   "execution_count": 6,
   "metadata": {},
   "outputs": [],
   "source": [
    "proc_train = processing_pipeline(train)\n",
    "proc_test = processing_pipeline(test)"
   ]
  },
  {
   "cell_type": "code",
   "execution_count": 7,
   "metadata": {},
   "outputs": [
    {
     "name": "stderr",
     "output_type": "stream",
     "text": [
      "/Library/Frameworks/Python.framework/Versions/3.6/lib/python3.6/site-packages/sklearn/preprocessing/data.py:323: DataConversionWarning: Data with input dtype int64 were all converted to float64 by MinMaxScaler.\n",
      "  return self.partial_fit(X, y)\n"
     ]
    }
   ],
   "source": [
    "# create normaliser for ordinal features\n",
    "ordinals = ['ord_0', 'ord_1', 'ord_2', 'ord_3', 'ord_4', 'ord_5']\n",
    "ord_normaliser = MinMaxScaler().fit(proc_train[ordinals])\n",
    "proc_train[ordinals] = ord_normaliser.transform(proc_train[ordinals])\n",
    "proc_test[ordinals] = ord_normaliser.transform(proc_test[ordinals])"
   ]
  },
  {
   "cell_type": "code",
   "execution_count": 8,
   "metadata": {},
   "outputs": [],
   "source": [
    "# define model and evaluation functions\n",
    "def modeling(model, proc_train=proc_train):\n",
    "    X = proc_train.drop('target', axis=1)\n",
    "    y = proc_train['target']\n",
    "    X_train, X_test, y_train, y_test = train_test_split(X, y, test_size=0.33, random_state=42)\n",
    "    pred_test = []\n",
    "    \n",
    "    # 5 folder cross validation\n",
    "    kf = KFold(n_splits=5)\n",
    "    kf_iter = 1\n",
    "    for train_index, test_index in kf.split(X):\n",
    "        print(\"KF Iteration: {}\".format(kf_iter))\n",
    "        X_dev, X_val = X.loc[train_index], X.loc[test_index]\n",
    "        y_dev, y_val = y.loc[train_index], y.loc[test_index]\n",
    "        \n",
    "        val_model = model.fit(X_dev, y_dev)\n",
    "        roc_auc = roc_auc_score(y_val, val_model.predict_proba(X_val)[:,1])\n",
    "        pred_test.append(val_model.predict_proba(proc_test)[:,1])\n",
    "        print(\"ROCAUC score: {}\".format(roc_auc))\n",
    "        kf_iter += 1\n",
    "    \n",
    "    print(\"==========================\")\n",
    "    final_model = model.fit(X_train, y_train)\n",
    "    test_roc_auc = roc_auc_score(y_test, final_model.predict_proba(X_test)[:,1])\n",
    "    print(\"Test ROCAUC score: {}\".format(roc_auc))\n",
    "    \n",
    "    visualizer = ROCAUC(final_model, classes=[\"0\", \"1\"])\n",
    "    visualizer.fit(X_train, y_train)\n",
    "    visualizer.score(X_test, y_test)\n",
    "    visualizer.show()  \n",
    "    \n",
    "    return final_model, pred_test"
   ]
  },
  {
   "cell_type": "code",
   "execution_count": 9,
   "metadata": {},
   "outputs": [
    {
     "name": "stdout",
     "output_type": "stream",
     "text": [
      "KF Iteration: 1\n",
      "ROCAUC score: 0.8060180566272556\n",
      "KF Iteration: 2\n",
      "ROCAUC score: 0.8042711088207268\n",
      "KF Iteration: 3\n",
      "ROCAUC score: 0.8105931464047869\n",
      "KF Iteration: 4\n",
      "ROCAUC score: 0.808706065569682\n",
      "KF Iteration: 5\n",
      "ROCAUC score: 0.8105446634139222\n",
      "==========================\n",
      "Test ROCAUC score: 0.8105446634139222\n"
     ]
    },
    {
     "data": {
      "image/png": "[encoded data removed]",
      "text/plain": [
       "<Figure size 432x288 with 1 Axes>"
      ]
     },
     "metadata": {},
     "output_type": "display_data"
    }
   ],
   "source": [
    "lr_model, pred_test  = modeling(LogisticRegression(solver='lbfgs', \n",
    "                                                   max_iter=500, \n",
    "                                                   class_weight='balanced', \n",
    "                                                   n_jobs=7,\n",
    "                                                   random_state=42))"
   ]
  },
  {
   "cell_type": "code",
   "execution_count": 22,
   "metadata": {},
   "outputs": [],
   "source": [
    "pd.DataFrame({'id': test['id'], \n",
    "             'target': sum(pred_test) / 5}).to_csv('../submissions/submission_20191016.csv', index=False)"
   ]
  },
  {
   "cell_type": "code",
   "execution_count": 23,
   "metadata": {},
   "outputs": [
    {
     "data": {
      "text/plain": [
       "LogisticRegression(C=1.0, class_weight='balanced', dual=False,\n",
       "          fit_intercept=True, intercept_scaling=1, max_iter=500,\n",
       "          multi_class='warn', n_jobs=7, penalty='l2', random_state=42,\n",
       "          solver='lbfgs', tol=0.0001, verbose=0, warm_start=False)"
      ]
     },
     "execution_count": 23,
     "metadata": {},
     "output_type": "execute_result"
    }
   ],
   "source": []
  },
  {
   "cell_type": "code",
   "execution_count": 24,
   "metadata": {
    "collapsed": true
   },
   "outputs": [],
   "source": [
    "pd.DataFrame({'id': test['id'], \n",
    "             'target': lr_model.predict_proba(proc_test)[:,1]}).to_csv('../submissions/submission_20191016-2.csv', index=False)"
   ]
  },
  {
   "cell_type": "code",
   "execution_count": null,
   "metadata": {
    "collapsed": true
   },
   "outputs": [],
   "source": []
  }
 ],
 "metadata": {
  "kernelspec": {
   "display_name": "Python 3",
   "language": "python",
   "name": "python3"
  },
  "language_info": {
   "codemirror_mode": {
    "name": "ipython",
    "version": 3
   },
   "file_extension": ".py",
   "mimetype": "text/x-python",
   "name": "python",
   "nbconvert_exporter": "python",
   "pygments_lexer": "ipython3",
   "version": "3.6.1"
  }
 },
 "nbformat": 4,
 "nbformat_minor": 2
}
