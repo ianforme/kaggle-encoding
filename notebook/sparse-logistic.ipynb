{
 "cells": [
  {
   "cell_type": "code",
   "execution_count": 24,
   "metadata": {},
   "outputs": [
    {
     "name": "stderr",
     "output_type": "stream",
     "text": [
      "Using TensorFlow backend.\n"
     ]
    }
   ],
   "source": [
    "import pandas as pd\n",
    "import numpy as np\n",
    "import tensorflow as tf\n",
    "\n",
    "from scipy.sparse import hstack, csr_matrix\n",
    "from sklearn.preprocessing import LabelEncoder, OneHotEncoder\n",
    "from sklearn.metrics import roc_auc_score\n",
    "from sklearn.model_selection import train_test_split, StratifiedKFold\n",
    "\n",
    "from sklearn.linear_model import LogisticRegression\n",
    "from sklearn.ensemble import AdaBoostClassifier\n",
    "from xgboost import XGBClassifier\n",
    "\n",
    "from keras.layers import Dense\n",
    "from keras.models import Sequential\n",
    "from keras.callbacks import EarlyStopping\n"
   ]
  },
  {
   "cell_type": "code",
   "execution_count": 25,
   "metadata": {},
   "outputs": [],
   "source": [
    "train = pd.read_csv(\"../data/train.csv\")\n",
    "test = pd.read_csv(\"../data/test.csv\")"
   ]
  },
  {
   "cell_type": "code",
   "execution_count": 26,
   "metadata": {},
   "outputs": [
    {
     "name": "stderr",
     "output_type": "stream",
     "text": [
      "c:\\users\\p1319163\\appdata\\local\\programs\\python\\python36\\lib\\site-packages\\ipykernel_launcher.py:1: FutureWarning: Sorting because non-concatenation axis is not aligned. A future version\n",
      "of pandas will change to not sort by default.\n",
      "\n",
      "To accept the future behavior, pass 'sort=False'.\n",
      "\n",
      "To retain the current behavior and silence the warning, pass 'sort=True'.\n",
      "\n",
      "  \"\"\"Entry point for launching an IPython kernel.\n"
     ]
    }
   ],
   "source": [
    "all_df = pd.concat([train, test]).drop(['id', 'target'], axis=1).reset_index(drop=True)\n",
    "\n",
    "all_df['bin_3'] = all_df['bin_3'].replace({\"F\": 0, \"T\": 1})\n",
    "all_df['bin_4'] = all_df['bin_4'].replace({\"N\": 0, \"Y\": 1})\n",
    "\n",
    "all_df['ord_1'] = all_df['ord_1'].replace({\n",
    "    \"Novice\": 0,\n",
    "    \"Contributor\": 1,\n",
    "    \"Expert\": 2,\n",
    "    \"Master\": 3,\n",
    "    \"Grandmaster\": 4\n",
    "})\n",
    "all_df['ord_2'] = all_df['ord_2'].replace({\n",
    "    \"Freezing\": 0,\n",
    "    \"Cold\": 1,\n",
    "    \"Warm\": 2,\n",
    "    \"Hot\": 3,\n",
    "    \"Boiling Hot\": 4,\n",
    "    \"Lava Hot\": 5\n",
    "})\n",
    "all_df['ord_3'] = LabelEncoder().fit_transform(all_df['ord_3'])\n",
    "all_df['ord_4'] = LabelEncoder().fit_transform(all_df['ord_4'])\n",
    "\n",
    "all_df['ord_5a'] = all_df['ord_5'].str[0]\n",
    "all_df['ord_5a'] = LabelEncoder().fit_transform(all_df['ord_5a'])\n",
    "\n",
    "all_df['ord_5b'] = all_df['ord_5'].str[1]"
   ]
  },
  {
   "cell_type": "code",
   "execution_count": 27,
   "metadata": {},
   "outputs": [],
   "source": [
    "ohe_cols = ['day', 'month', 'nom_0', 'nom_1', 'nom_2', 'nom_3', 'nom_4', \n",
    "            'nom_5', 'nom_6', 'nom_7', 'nom_8', 'nom_9', 'ord_5', 'ord_5b']\n",
    "\n",
    "ohc = OneHotEncoder().fit_transform(all_df[ohe_cols])"
   ]
  },
  {
   "cell_type": "code",
   "execution_count": 28,
   "metadata": {},
   "outputs": [],
   "source": [
    "full_sparse_df = hstack([csr_matrix(all_df[all_df.columns.difference(ohe_cols + ['bin_0'])].values), ohc]).tocsr()"
   ]
  },
  {
   "cell_type": "code",
   "execution_count": 29,
   "metadata": {},
   "outputs": [],
   "source": [
    "X_train = full_sparse_df[:300000]\n",
    "y_train = train['target']\n",
    "X_test = full_sparse_df[300000:]"
   ]
  },
  {
   "cell_type": "code",
   "execution_count": null,
   "metadata": {},
   "outputs": [],
   "source": [
    "skf = StratifiedKFold(5, shuffle=True, random_state=42)\n",
    "for train_index, test_index in skf.split(X_train, y_train):\n",
    "    print(\"TRAIN:\", train_index, \"TEST:\", test_index)\n",
    "    X_dev, X_val = X_train[train_index], X_train[test_index]\n",
    "    y_dev, y_val = y_train[train_index], y_train[test_index]\n",
    "    \n",
    "    model = LogisticRegression(solver='lbfgs', max_iter=5000, C=0.11, random_state=42).fit(X_dev, y_dev)\n",
    "    val_pred = model.predict_proba(X_val)\n",
    "    print('ROCAUC score: {}'.format(roc_auc_score(y_val, val_pred[:,1])))"
   ]
  },
  {
   "cell_type": "code",
   "execution_count": 58,
   "metadata": {},
   "outputs": [],
   "source": [
    "lr_model = LogisticRegression(solver='lbfgs', max_iter=5000, C=0.11, random_state=42).fit(X_train, y_train)"
   ]
  },
  {
   "cell_type": "code",
   "execution_count": 59,
   "metadata": {},
   "outputs": [],
   "source": [
    "pred_test = pd.DataFrame({'id': test['id'],\n",
    "                          'target': lr_model.predict_proba(X_test)[:,1]})"
   ]
  },
  {
   "cell_type": "code",
   "execution_count": 60,
   "metadata": {},
   "outputs": [],
   "source": [
    "# public score 0.80814\n",
    "pred_test.to_csv('../submissions/lr-oh-od-no0-c11-submission.csv', index=False)"
   ]
  },
  {
   "cell_type": "code",
   "execution_count": null,
   "metadata": {},
   "outputs": [],
   "source": []
  },
  {
   "cell_type": "code",
   "execution_count": null,
   "metadata": {},
   "outputs": [],
   "source": []
  }
 ],
 "metadata": {
  "kernelspec": {
   "display_name": "Python 3",
   "language": "python",
   "name": "python3"
  },
  "language_info": {
   "codemirror_mode": {
    "name": "ipython",
    "version": 3
   },
   "file_extension": ".py",
   "mimetype": "text/x-python",
   "name": "python",
   "nbconvert_exporter": "python",
   "pygments_lexer": "ipython3",
   "version": "3.6.6"
  },
  "toc": {
   "base_numbering": 1,
   "nav_menu": {},
   "number_sections": true,
   "sideBar": true,
   "skip_h1_title": false,
   "title_cell": "Table of Contents",
   "title_sidebar": "Contents",
   "toc_cell": false,
   "toc_position": {},
   "toc_section_display": true,
   "toc_window_display": false
  }
 },
 "nbformat": 4,
 "nbformat_minor": 2
}
