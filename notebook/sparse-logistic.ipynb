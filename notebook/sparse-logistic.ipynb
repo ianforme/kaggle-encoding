{
 "cells": [
  {
   "cell_type": "code",
   "execution_count": 39,
   "metadata": {},
   "outputs": [],
   "source": [
    "import random\n",
    "import pandas as pd\n",
    "import numpy as np\n",
    "import tensorflow as tf\n",
    "\n",
    "from scipy.sparse import hstack, csr_matrix\n",
    "from sklearn.preprocessing import LabelEncoder, OneHotEncoder\n",
    "from sklearn.metrics import roc_auc_score\n",
    "from sklearn.model_selection import train_test_split, StratifiedKFold\n",
    "\n",
    "from sklearn.linear_model import LogisticRegression\n",
    "\n",
    "random.seed(42)"
   ]
  },
  {
   "cell_type": "code",
   "execution_count": 40,
   "metadata": {},
   "outputs": [],
   "source": [
    "train = pd.read_csv(\"../data/train.csv\")\n",
    "test = pd.read_csv(\"../data/test.csv\")"
   ]
  },
  {
   "cell_type": "code",
   "execution_count": 41,
   "metadata": {},
   "outputs": [
    {
     "name": "stderr",
     "output_type": "stream",
     "text": [
      "c:\\users\\p1319163\\appdata\\local\\programs\\python\\python36\\lib\\site-packages\\ipykernel_launcher.py:1: FutureWarning: Sorting because non-concatenation axis is not aligned. A future version\n",
      "of pandas will change to not sort by default.\n",
      "\n",
      "To accept the future behavior, pass 'sort=False'.\n",
      "\n",
      "To retain the current behavior and silence the warning, pass 'sort=True'.\n",
      "\n",
      "  \"\"\"Entry point for launching an IPython kernel.\n"
     ]
    }
   ],
   "source": [
    "all_df = pd.concat([train, test]).drop(['id', 'target'], axis=1).reset_index(drop=True)\n",
    "\n",
    "all_df['bin_3'] = all_df['bin_3'].replace({\"F\": 0, \"T\": 1})\n",
    "all_df['bin_4'] = all_df['bin_4'].replace({\"N\": 0, \"Y\": 1})\n",
    "\n",
    "all_df['ord_1'] = all_df['ord_1'].replace({\n",
    "    \"Novice\": 0,\n",
    "    \"Contributor\": 1,\n",
    "    \"Expert\": 2,\n",
    "    \"Master\": 3,\n",
    "    \"Grandmaster\": 4\n",
    "})\n",
    "all_df['ord_2'] = all_df['ord_2'].replace({\n",
    "    \"Freezing\": 0,\n",
    "    \"Cold\": 1,\n",
    "    \"Warm\": 2,\n",
    "    \"Hot\": 3,\n",
    "    \"Boiling Hot\": 4,\n",
    "    \"Lava Hot\": 5\n",
    "})\n",
    "all_df['ord_3'] = LabelEncoder().fit_transform(all_df['ord_3'])\n",
    "all_df['ord_4'] = LabelEncoder().fit_transform(all_df['ord_4'])\n",
    "all_df['ord_5'] = all_df['ord_5'].replace({'Cl': 'GG', \n",
    "                                           'Kf': 'GG', \n",
    "                                           'eg': 'GG', \n",
    "                                           'xP': 'GG'})\n",
    "\n",
    "all_df['ord_5a'] = all_df['ord_5'].str[0]\n",
    "all_df['ord_5b'] = all_df['ord_5'].str[1]\n",
    "\n",
    "all_df['ord_5a'] = LabelEncoder().fit_transform(all_df['ord_5a'])\n",
    "all_df['ord_5'] = LabelEncoder().fit_transform(all_df['ord_5'])\n",
    "\n",
    "nom_9_df = train.groupby('nom_9')['target'].mean().reset_index()\n",
    "nom_9_df.columns = ['nom_9', 'mean_target']\n",
    "\n",
    "to_rep = nom_9_df.loc[(nom_9_df['mean_target'] == 1) | (nom_9_df['mean_target'] == 0), 'nom_9'].tolist()\n",
    "target_rep = ['ff4ccc205', '1a25c6368', 'e35015401', 'c0b71d6ef', 'b958a2001', 'eeaf55dc2', '55bc7f2fd']\n",
    "\n",
    "rep_map = {}\n",
    "for i in to_rep:\n",
    "    rep_map[i] = random.choice(target_rep)\n",
    "all_df.loc[all_df['nom_9'].isin(to_rep), 'nom_9'] = all_df.loc[all_df['nom_9'].isin(to_rep), 'nom_9'].map(rep_map)    \n",
    "    \n",
    "# to_drop = nom_9_df.loc[nom_9_df['mean_target'] == 0.5, 'nom_9'].sample(frac=0.5, random_state=42).tolist()\n",
    "# all_train_df = all_df.iloc[:300000].loc[~all_df['nom_9'].isin(to_drop)]\n",
    "# all_test_df = all_df.iloc[300000:]\n",
    "# all_df = pd.concat([all_train_df, all_test_df])"
   ]
  },
  {
   "cell_type": "code",
   "execution_count": 42,
   "metadata": {},
   "outputs": [],
   "source": [
    "ohe_cols = ['day', 'month', 'nom_0', 'nom_1', 'nom_2', 'nom_3', 'nom_4', \n",
    "            'nom_5', 'nom_6', 'nom_7', 'nom_8', 'nom_9', 'ord_5b']\n",
    "\n",
    "ohc = OneHotEncoder().fit_transform(all_df[ohe_cols])"
   ]
  },
  {
   "cell_type": "code",
   "execution_count": 43,
   "metadata": {},
   "outputs": [],
   "source": [
    "full_sparse_df = hstack([csr_matrix(all_df[all_df.columns.difference(ohe_cols + ['bin_0'])].values), ohc]).tocsr()"
   ]
  },
  {
   "cell_type": "code",
   "execution_count": 47,
   "metadata": {},
   "outputs": [],
   "source": [
    "X_train = full_sparse_df[:-200000]\n",
    "y_train = train['target']\n",
    "X_test = full_sparse_df[-200000:]"
   ]
  },
  {
   "cell_type": "code",
   "execution_count": 51,
   "metadata": {},
   "outputs": [
    {
     "name": "stdout",
     "output_type": "stream",
     "text": [
      "TRAIN: [     0      1      2 ... 299995 299997 299998] TEST: [     3      5      7 ... 299994 299996 299999]\n",
      "ROCAUC score: 0.805894586244043\n",
      "TRAIN: [     1      2      3 ... 299996 299997 299999] TEST: [     0     14     28 ... 299975 299985 299998]\n",
      "ROCAUC score: 0.8037606934148611\n",
      "TRAIN: [     0      2      3 ... 299997 299998 299999] TEST: [     1      4     26 ... 299988 299991 299995]\n",
      "ROCAUC score: 0.8028039674436462\n",
      "TRAIN: [     0      1      3 ... 299996 299998 299999] TEST: [     2      8      9 ... 299981 299986 299997]\n",
      "ROCAUC score: 0.8070600793088858\n",
      "TRAIN: [     0      1      2 ... 299997 299998 299999] TEST: [     6     11     12 ... 299987 299989 299992]\n",
      "ROCAUC score: 0.8022060475316799\n",
      "===================\n",
      "ROCAUC score: 0.8043450747886232\n"
     ]
    }
   ],
   "source": [
    "skf = StratifiedKFold(5, shuffle=True, random_state=42)\n",
    "score = 0\n",
    "for train_index, test_index in skf.split(X_train, y_train):\n",
    "    print(\"TRAIN:\", train_index, \"TEST:\", test_index)\n",
    "    X_dev, X_val = X_train[train_index], X_train[test_index]\n",
    "    y_dev, y_val = y_train[train_index], y_train[test_index]\n",
    "    \n",
    "    model = LogisticRegression(solver='lbfgs', max_iter=5000, C=0.11, random_state=42).fit(X_dev, y_dev)\n",
    "    val_pred = model.predict_proba(X_val)\n",
    "    val_score = roc_auc_score(y_val, val_pred[:,1])\n",
    "    print('ROCAUC score: {}'.format(val_score))\n",
    "    score += val_score\n",
    "\n",
    "print(\"===================\")\n",
    "print('ROCAUC score: {}'.format(score / 5))"
   ]
  },
  {
   "cell_type": "code",
   "execution_count": 52,
   "metadata": {},
   "outputs": [],
   "source": [
    "lr_model = LogisticRegression(solver='lbfgs', max_iter=5000, C=0.11, random_state=42).fit(X_train, y_train)"
   ]
  },
  {
   "cell_type": "code",
   "execution_count": 53,
   "metadata": {},
   "outputs": [],
   "source": [
    "pred_test = pd.DataFrame({'id': test['id'],\n",
    "                          'target': lr_model.predict_proba(X_test)[:,1]})"
   ]
  },
  {
   "cell_type": "code",
   "execution_count": 54,
   "metadata": {},
   "outputs": [],
   "source": [
    "# public score 0.80754\n",
    "pred_test.to_csv('../submissions/lr-oh-od-no0-c11-ord5-submission.csv', index=False)"
   ]
  },
  {
   "cell_type": "code",
   "execution_count": null,
   "metadata": {},
   "outputs": [],
   "source": []
  },
  {
   "cell_type": "code",
   "execution_count": 55,
   "metadata": {},
   "outputs": [],
   "source": [
    "# blend with oh my cat and glmnet -> 0.80824\n",
    "omc = pd.read_csv('../submissions/submission-oh-my-cat.csv')\n",
    "glmnet = pd.read_csv('../submissions/submission_glmnet.csv')"
   ]
  },
  {
   "cell_type": "code",
   "execution_count": 56,
   "metadata": {},
   "outputs": [],
   "source": [
    "blend_out = ((glmnet + omc + pred_test)/3)\n",
    "blend_out['id'] = blend_out['id'].astype(int)"
   ]
  },
  {
   "cell_type": "code",
   "execution_count": 57,
   "metadata": {},
   "outputs": [],
   "source": [
    "blend_out.to_csv('../submissions/submission-blend-lr-omc-glmnet-ord5.csv', index=False)"
   ]
  },
  {
   "cell_type": "code",
   "execution_count": null,
   "metadata": {},
   "outputs": [],
   "source": []
  }
 ],
 "metadata": {
  "kernelspec": {
   "display_name": "Python 3",
   "language": "python",
   "name": "python3"
  },
  "language_info": {
   "codemirror_mode": {
    "name": "ipython",
    "version": 3
   },
   "file_extension": ".py",
   "mimetype": "text/x-python",
   "name": "python",
   "nbconvert_exporter": "python",
   "pygments_lexer": "ipython3",
   "version": "3.6.6"
  },
  "toc": {
   "base_numbering": 1,
   "nav_menu": {},
   "number_sections": true,
   "sideBar": true,
   "skip_h1_title": false,
   "title_cell": "Table of Contents",
   "title_sidebar": "Contents",
   "toc_cell": false,
   "toc_position": {},
   "toc_section_display": true,
   "toc_window_display": false
  }
 },
 "nbformat": 4,
 "nbformat_minor": 2
}
